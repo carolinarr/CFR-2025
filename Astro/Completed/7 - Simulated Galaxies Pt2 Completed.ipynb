{
 "cells": [
  {
   "cell_type": "markdown",
   "metadata": {},
   "source": [
    "## Galaxies in Illustris\n",
    "\n",
    "Above, we were looking at star particles in simulated galaxies, similar to how we looked at stars in the Milky Way using Gaia data. We can instead look at many galaxies' overall properties, similar to how we looked at galaxies in Galaxy Zoo. We can look at some of the fully evolved galaxies in IllustrisTNG by examining the Illustris_galaxies file in the Data folder."
   ]
  },
  {
   "cell_type": "code",
   "execution_count": 1,
   "metadata": {},
   "outputs": [],
   "source": [
    "# read in the data\n",
    "import pandas as pd \n",
    "data_gal = pd.read_csv('Data/Illustris_galaxies.csv')"
   ]
  },
  {
   "cell_type": "code",
   "execution_count": 2,
   "metadata": {},
   "outputs": [
    {
     "data": {
      "text/html": [
       "<div>\n",
       "<style scoped>\n",
       "    .dataframe tbody tr th:only-of-type {\n",
       "        vertical-align: middle;\n",
       "    }\n",
       "\n",
       "    .dataframe tbody tr th {\n",
       "        vertical-align: top;\n",
       "    }\n",
       "\n",
       "    .dataframe thead th {\n",
       "        text-align: right;\n",
       "    }\n",
       "</style>\n",
       "<table border=\"1\" class=\"dataframe\">\n",
       "  <thead>\n",
       "    <tr style=\"text-align: right;\">\n",
       "      <th></th>\n",
       "      <th>Galaxy ID</th>\n",
       "      <th>Stellar Mass [Mo]</th>\n",
       "      <th>g band</th>\n",
       "      <th>r band</th>\n",
       "      <th>Probability is spiral</th>\n",
       "    </tr>\n",
       "  </thead>\n",
       "  <tbody>\n",
       "    <tr>\n",
       "      <th>0</th>\n",
       "      <td>0</td>\n",
       "      <td>3.565573e+12</td>\n",
       "      <td>-23.256830</td>\n",
       "      <td>-24.071047</td>\n",
       "      <td>0.285813</td>\n",
       "    </tr>\n",
       "    <tr>\n",
       "      <th>1</th>\n",
       "      <td>1</td>\n",
       "      <td>5.376783e+11</td>\n",
       "      <td>-21.941610</td>\n",
       "      <td>-22.712160</td>\n",
       "      <td>0.817303</td>\n",
       "    </tr>\n",
       "    <tr>\n",
       "      <th>2</th>\n",
       "      <td>2</td>\n",
       "      <td>6.034437e+11</td>\n",
       "      <td>-22.199574</td>\n",
       "      <td>-22.951138</td>\n",
       "      <td>0.941455</td>\n",
       "    </tr>\n",
       "    <tr>\n",
       "      <th>3</th>\n",
       "      <td>3</td>\n",
       "      <td>1.650696e+11</td>\n",
       "      <td>-21.828701</td>\n",
       "      <td>-22.411537</td>\n",
       "      <td>0.998825</td>\n",
       "    </tr>\n",
       "    <tr>\n",
       "      <th>4</th>\n",
       "      <td>4</td>\n",
       "      <td>1.283022e+11</td>\n",
       "      <td>-20.685863</td>\n",
       "      <td>-21.426640</td>\n",
       "      <td>0.113466</td>\n",
       "    </tr>\n",
       "    <tr>\n",
       "      <th>...</th>\n",
       "      <td>...</td>\n",
       "      <td>...</td>\n",
       "      <td>...</td>\n",
       "      <td>...</td>\n",
       "      <td>...</td>\n",
       "    </tr>\n",
       "    <tr>\n",
       "      <th>12530</th>\n",
       "      <td>704187</td>\n",
       "      <td>5.030724e+09</td>\n",
       "      <td>-17.602875</td>\n",
       "      <td>-18.358276</td>\n",
       "      <td>0.411240</td>\n",
       "    </tr>\n",
       "    <tr>\n",
       "      <th>12531</th>\n",
       "      <td>719337</td>\n",
       "      <td>6.327700e+09</td>\n",
       "      <td>-18.095821</td>\n",
       "      <td>-18.824528</td>\n",
       "      <td>0.607696</td>\n",
       "    </tr>\n",
       "    <tr>\n",
       "      <th>12532</th>\n",
       "      <td>727485</td>\n",
       "      <td>5.224962e+09</td>\n",
       "      <td>-17.727982</td>\n",
       "      <td>-18.471638</td>\n",
       "      <td>0.475961</td>\n",
       "    </tr>\n",
       "    <tr>\n",
       "      <th>12533</th>\n",
       "      <td>738596</td>\n",
       "      <td>3.874592e+09</td>\n",
       "      <td>-17.392363</td>\n",
       "      <td>-18.134193</td>\n",
       "      <td>0.542526</td>\n",
       "    </tr>\n",
       "    <tr>\n",
       "      <th>12534</th>\n",
       "      <td>752194</td>\n",
       "      <td>3.403812e+09</td>\n",
       "      <td>-17.248920</td>\n",
       "      <td>-17.987637</td>\n",
       "      <td>0.777810</td>\n",
       "    </tr>\n",
       "  </tbody>\n",
       "</table>\n",
       "<p>12535 rows × 5 columns</p>\n",
       "</div>"
      ],
      "text/plain": [
       "       Galaxy ID  Stellar Mass [Mo]     g band     r band  \\\n",
       "0              0       3.565573e+12 -23.256830 -24.071047   \n",
       "1              1       5.376783e+11 -21.941610 -22.712160   \n",
       "2              2       6.034437e+11 -22.199574 -22.951138   \n",
       "3              3       1.650696e+11 -21.828701 -22.411537   \n",
       "4              4       1.283022e+11 -20.685863 -21.426640   \n",
       "...          ...                ...        ...        ...   \n",
       "12530     704187       5.030724e+09 -17.602875 -18.358276   \n",
       "12531     719337       6.327700e+09 -18.095821 -18.824528   \n",
       "12532     727485       5.224962e+09 -17.727982 -18.471638   \n",
       "12533     738596       3.874592e+09 -17.392363 -18.134193   \n",
       "12534     752194       3.403812e+09 -17.248920 -17.987637   \n",
       "\n",
       "       Probability is spiral  \n",
       "0                   0.285813  \n",
       "1                   0.817303  \n",
       "2                   0.941455  \n",
       "3                   0.998825  \n",
       "4                   0.113466  \n",
       "...                      ...  \n",
       "12530               0.411240  \n",
       "12531               0.607696  \n",
       "12532               0.475961  \n",
       "12533               0.542526  \n",
       "12534               0.777810  \n",
       "\n",
       "[12535 rows x 5 columns]"
      ]
     },
     "execution_count": 2,
     "metadata": {},
     "output_type": "execute_result"
    }
   ],
   "source": [
    "# display the data set\n",
    "data_gal"
   ]
  },
  {
   "cell_type": "markdown",
   "metadata": {},
   "source": [
    "**How many rows are there?** This represents the number of simulated galaxies we are looking at.\n",
    "\n",
    "**Answer:** 12,535\n",
    "\n",
    "**How many columns are there?** This represents the number measurements we have for each simulated galaxy.\n",
    "\n",
    "**Answer:** 5\n",
    "\n",
    "**Fill in the rows for each corresponding column**\n",
    "\n",
    "| Column Header | Definition | Unit |\n",
    "| :- | :- | :- |\n",
    "| Galaxy ID | numerical name of the galaxy | no unit\n",
    "| Stellar Mass [Mo] | mass of all the stars in the galaxy | Solar Mass\n",
    "| g band | brightness in g filter | mag\n",
    "| r band | brightness in r filter | mag\n",
    "| Probability is spiral | probability that a galaxy is a spiral | no unit (multiply by 100 to get a percent)"
   ]
  },
  {
   "cell_type": "code",
   "execution_count": 3,
   "metadata": {},
   "outputs": [],
   "source": [
    "# create two boolean arrays for if a galaxy is a spiral galaxy or an elliptical galaxy\n",
    "# use the same probability cut off that we did with the galaxy zoo\n",
    "# you can assume a galaxy is elliptical if it is is less than 20% chance a spiral galaxy\n",
    "\n",
    "spiral = data_gal['Probability is spiral'] > 0.8\n",
    "elliptical = data_gal['Probability is spiral'] < 0.2"
   ]
  },
  {
   "cell_type": "markdown",
   "metadata": {},
   "source": [
    "**What percentage of these galaxies are spirals?**\n",
    "\n",
    "**Answer:** 26.18%\n",
    "\n",
    "**What percentage of these galaxies are ellipticals?**\n",
    "\n",
    "**Answer:** 11.76%"
   ]
  },
  {
   "cell_type": "code",
   "execution_count": 4,
   "metadata": {},
   "outputs": [
    {
     "name": "stdout",
     "output_type": "stream",
     "text": [
      "The percentage of spiral galaxies is 26.18 %\n",
      "The percentage of elliptical galaxies is 11.76 %\n"
     ]
    }
   ],
   "source": [
    "print('The percentage of spiral galaxies is', round(sum(spiral)/len(spiral) * 100,2), '%')\n",
    "print('The percentage of elliptical galaxies is', round(sum(elliptical)/len(spiral) * 100,2), '%')"
   ]
  },
  {
   "cell_type": "markdown",
   "metadata": {},
   "source": [
    "**How do these percentages compare to the ones you found in the Galaxy Zoo data?**\n",
    "\n",
    "**Answer:** They are fairly similar!"
   ]
  },
  {
   "cell_type": "code",
   "execution_count": 7,
   "metadata": {},
   "outputs": [
    {
     "name": "stdout",
     "output_type": "stream",
     "text": [
      "The mean color of spiral galaxies is 0.45\n",
      "The mean color of elliptical galaxies is 0.75\n",
      "\n",
      "The standard deviation of the color of spiral galaxies is 0.11\n",
      "The standard deviation of the color of elliptical galaxies is 0.09\n"
     ]
    },
    {
     "data": {
      "image/png": "[encoded data removed]",
      "text/plain": [
       "<Figure size 432x288 with 1 Axes>"
      ]
     },
     "metadata": {
      "needs_background": "light"
     },
     "output_type": "display_data"
    }
   ],
   "source": [
    "# create a single plot showing histograms of the colors of the two types of galaxies \n",
    "\n",
    "# import our graphing package\n",
    "import matplotlib.pyplot as plt\n",
    "import numpy as np \n",
    "\n",
    "#the below is optional but makes the font a size I can read more easily\n",
    "import matplotlib\n",
    "matplotlib.rc('font', **{'family':'sans-serif', 'size':16}) \n",
    "\n",
    "# grab the columns we want\n",
    "g_gal = data_gal['g band']\n",
    "r_gal = data_gal['r band']\n",
    "\n",
    "# calculate color\n",
    "color_gal = g_gal - r_gal\n",
    "\n",
    "# separate into spiral and elliptical\n",
    "spiral_color = color_gal[spiral]\n",
    "elliptical_color = color_gal[elliptical]\n",
    "\n",
    "# create one histogram with elliptical and spiral galaxies on it\n",
    "plt.hist(elliptical_color, bins=100, color='hotpink', alpha=.4, label='Elliptical')\n",
    "plt.hist(spiral_color, bins=100, color='mediumpurple', alpha=.4, label='Spiral')\n",
    "plt.axvline(0.6, color='black')\n",
    "plt.annotate('bluer', (0.15, 100), color='blue', fontsize=16)\n",
    "plt.annotate('redder', (.62, 120), color='red', fontsize=16)\n",
    "plt.xlabel('Color [g-r]')\n",
    "plt.ylabel('Number of Galaxies')\n",
    "plt.legend()\n",
    "\n",
    "# statistics\n",
    "print('The mean color of spiral galaxies is', round(np.mean(spiral_color), 2))\n",
    "print('The mean color of elliptical galaxies is', round(np.mean(elliptical_color), 2))\n",
    "print('')\n",
    "print('The standard deviation of the color of spiral galaxies is', round(np.std(spiral_color), 2))\n",
    "print('The standard deviation of the color of elliptical galaxies is', round(np.std(elliptical_color), 2))"
   ]
  },
  {
   "cell_type": "markdown",
   "metadata": {},
   "source": [
    "**Are your results consistent with what you found in Galaxy Zoo?**\n",
    "\n",
    "**Answer:** Yes! The spiral galaxies have a bluer mean and greater spread than the elliptical galaxies. The means and standard deviations for spiral/ellipticals are very similar/the same between the two datasets."
   ]
  },
  {
   "cell_type": "markdown",
   "metadata": {},
   "source": [
    "## Mergers\n",
    "\n",
    "So far, we have confirmed that in at least some ways, the simulated galaxies behave like observed ones! Cool, but let's learn something new! I said that we can use galaxy simulations to learn about mergers. Let's do that! Read in the mergers files and check out what it contains. "
   ]
  },
  {
   "cell_type": "code",
   "execution_count": 8,
   "metadata": {},
   "outputs": [],
   "source": [
    "# read in the file\n",
    "data_merg = pd.read_csv('Data/mergers.csv')"
   ]
  },
  {
   "cell_type": "code",
   "execution_count": 9,
   "metadata": {},
   "outputs": [
    {
     "data": {
      "text/html": [
       "<div>\n",
       "<style scoped>\n",
       "    .dataframe tbody tr th:only-of-type {\n",
       "        vertical-align: middle;\n",
       "    }\n",
       "\n",
       "    .dataframe tbody tr th {\n",
       "        vertical-align: top;\n",
       "    }\n",
       "\n",
       "    .dataframe thead th {\n",
       "        text-align: right;\n",
       "    }\n",
       "</style>\n",
       "<table border=\"1\" class=\"dataframe\">\n",
       "  <thead>\n",
       "    <tr style=\"text-align: right;\">\n",
       "      <th></th>\n",
       "      <th>Galaxy ID</th>\n",
       "      <th>Time Since Last Major Merger [Gyr]</th>\n",
       "      <th>Number of Major Mergers</th>\n",
       "      <th>Numbber of Minor Mergers</th>\n",
       "    </tr>\n",
       "  </thead>\n",
       "  <tbody>\n",
       "    <tr>\n",
       "      <th>0</th>\n",
       "      <td>0</td>\n",
       "      <td>5.740040</td>\n",
       "      <td>8</td>\n",
       "      <td>16</td>\n",
       "    </tr>\n",
       "    <tr>\n",
       "      <th>1</th>\n",
       "      <td>1</td>\n",
       "      <td>3.956615</td>\n",
       "      <td>9</td>\n",
       "      <td>5</td>\n",
       "    </tr>\n",
       "    <tr>\n",
       "      <th>2</th>\n",
       "      <td>2</td>\n",
       "      <td>0.799699</td>\n",
       "      <td>3</td>\n",
       "      <td>4</td>\n",
       "    </tr>\n",
       "    <tr>\n",
       "      <th>3</th>\n",
       "      <td>3</td>\n",
       "      <td>4.126383</td>\n",
       "      <td>7</td>\n",
       "      <td>5</td>\n",
       "    </tr>\n",
       "    <tr>\n",
       "      <th>4</th>\n",
       "      <td>4</td>\n",
       "      <td>6.980874</td>\n",
       "      <td>5</td>\n",
       "      <td>7</td>\n",
       "    </tr>\n",
       "    <tr>\n",
       "      <th>...</th>\n",
       "      <td>...</td>\n",
       "      <td>...</td>\n",
       "      <td>...</td>\n",
       "      <td>...</td>\n",
       "    </tr>\n",
       "    <tr>\n",
       "      <th>12530</th>\n",
       "      <td>704187</td>\n",
       "      <td>12.554805</td>\n",
       "      <td>3</td>\n",
       "      <td>2</td>\n",
       "    </tr>\n",
       "    <tr>\n",
       "      <th>12531</th>\n",
       "      <td>719337</td>\n",
       "      <td>9.462953</td>\n",
       "      <td>1</td>\n",
       "      <td>2</td>\n",
       "    </tr>\n",
       "    <tr>\n",
       "      <th>12532</th>\n",
       "      <td>727485</td>\n",
       "      <td>10.228946</td>\n",
       "      <td>7</td>\n",
       "      <td>1</td>\n",
       "    </tr>\n",
       "    <tr>\n",
       "      <th>12533</th>\n",
       "      <td>738596</td>\n",
       "      <td>11.317041</td>\n",
       "      <td>3</td>\n",
       "      <td>2</td>\n",
       "    </tr>\n",
       "    <tr>\n",
       "      <th>12534</th>\n",
       "      <td>752194</td>\n",
       "      <td>12.698000</td>\n",
       "      <td>2</td>\n",
       "      <td>2</td>\n",
       "    </tr>\n",
       "  </tbody>\n",
       "</table>\n",
       "<p>12535 rows × 4 columns</p>\n",
       "</div>"
      ],
      "text/plain": [
       "       Galaxy ID  Time Since Last Major Merger [Gyr]  Number of Major Mergers  \\\n",
       "0              0                            5.740040                        8   \n",
       "1              1                            3.956615                        9   \n",
       "2              2                            0.799699                        3   \n",
       "3              3                            4.126383                        7   \n",
       "4              4                            6.980874                        5   \n",
       "...          ...                                 ...                      ...   \n",
       "12530     704187                           12.554805                        3   \n",
       "12531     719337                            9.462953                        1   \n",
       "12532     727485                           10.228946                        7   \n",
       "12533     738596                           11.317041                        3   \n",
       "12534     752194                           12.698000                        2   \n",
       "\n",
       "       Numbber of Minor Mergers  \n",
       "0                            16  \n",
       "1                             5  \n",
       "2                             4  \n",
       "3                             5  \n",
       "4                             7  \n",
       "...                         ...  \n",
       "12530                         2  \n",
       "12531                         2  \n",
       "12532                         1  \n",
       "12533                         2  \n",
       "12534                         2  \n",
       "\n",
       "[12535 rows x 4 columns]"
      ]
     },
     "execution_count": 9,
     "metadata": {},
     "output_type": "execute_result"
    }
   ],
   "source": [
    "# examine the data\n",
    "data_merg"
   ]
  },
  {
   "cell_type": "markdown",
   "metadata": {},
   "source": [
    "**How many rows are there?** This represents the number of simulated galaxies we are looking at.\n",
    "\n",
    "**Answer:** 12,535 (same as the one above because they both have the same galaxies)\n",
    "\n",
    "**How many columns are there?** This represents the number measurements we have for each simulated galaxy.\n",
    "\n",
    "**Answer:** 4\n",
    "\n",
    "**Fill in the rows for each corresponding column**\n",
    "\n",
    "| Column Header | Definition | Unit |\n",
    "| :- | :- | :- |\n",
    "| Galaxy ID | numerical name of the galaxy | no unit\n",
    "| Time Since Last Major Merger [Gyr] | mass of all the stars in the galaxy | Solar Mass\n",
    "| Number of Major Mergers | number of large mergers the galaxy has had | no unit\n",
    "| Number of Minor Mergers | number of small mergers the galaxy has had | no unit"
   ]
  },
  {
   "cell_type": "markdown",
   "metadata": {},
   "source": [
    "# Deliverable\n",
    "\n",
    "Explore the galaxy data you have in this notebook to make at least one plot that tells us something we haven't explored! Be ready to present. You might want to include statistics."
   ]
  },
  {
   "cell_type": "code",
   "execution_count": 10,
   "metadata": {},
   "outputs": [],
   "source": [
    "# explore the data and make a plot below!\n",
    "\n",
    "merg_time = data_merg['Time Since Last Major Merger [Gyr]']\n",
    "num_maj = data_merg['Number of Major Mergers']\n",
    "num_min = data_merg['Numbber of Minor Mergers']\n",
    "mass = data_gal['Stellar Mass [Mo]']\n"
   ]
  },
  {
   "cell_type": "markdown",
   "metadata": {},
   "source": [
    "**According to your graph set up...**\n",
    "\n",
    "**What is the independent variable?**\n",
    "\n",
    "**Answer:**\n",
    "\n",
    "\n",
    "**What is the dependent variable?**\n",
    "\n",
    "**Answer:**\n",
    "\n",
    "\n",
    "**What could a control variable be?**\n",
    "\n",
    "**Answer:**\n",
    "\n",
    "**What shapes or trends do you see in the data?**\n",
    "\n",
    "**Answer:**\n",
    "\n",
    "**What could this mean physically/astronomically?**\n",
    "\n",
    "**Answer:**\n",
    "\n",
    "**What further questions does this raise?**\n",
    "\n",
    "**Answer:**"
   ]
  },
  {
   "cell_type": "markdown",
   "metadata": {},
   "source": [
    "## Reflection\n",
    "\n",
    "Write down some notes in your lab notebook about what you've learned in this unit about simulated galaxies. Be sure to include some astronomy and some coding. "
   ]
  }
 ],
 "metadata": {
  "kernelspec": {
   "display_name": "Python 3",
   "language": "python",
   "name": "python3"
  },
  "language_info": {
   "codemirror_mode": {
    "name": "ipython",
    "version": 3
   },
   "file_extension": ".py",
   "mimetype": "text/x-python",
   "name": "python",
   "nbconvert_exporter": "python",
   "pygments_lexer": "ipython3",
   "version": "3.8.5"
  }
 },
 "nbformat": 4,
 "nbformat_minor": 4
}
