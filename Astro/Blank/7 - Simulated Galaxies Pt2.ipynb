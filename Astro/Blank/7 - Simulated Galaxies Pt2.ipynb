{
 "cells": [
  {
   "cell_type": "markdown",
   "metadata": {},
   "source": [
    "## Galaxies in Illustris\n",
    "\n",
    "Above, we were looking at star particles in simulated galaxies, similar to how we looked at stars in the Milky Way using Gaia data. We can instead look at many galaxies' overall properties, similar to how we looked at galaxies in Galaxy Zoo. We can look at some of the fully evolved galaxies in IllustrisTNG by examining the Illustris_galaxies file in the Data folder."
   ]
  },
  {
   "cell_type": "code",
   "execution_count": null,
   "metadata": {},
   "outputs": [],
   "source": [
    "# read in the data (Illustris_galaxies.csv)\n"
   ]
  },
  {
   "cell_type": "code",
   "execution_count": null,
   "metadata": {},
   "outputs": [],
   "source": [
    "# display the data set\n"
   ]
  },
  {
   "cell_type": "markdown",
   "metadata": {},
   "source": [
    "**How many rows are there?** \n",
    "\n",
    "**Answer:** \n",
    "\n",
    "**How many columns are there?** \n",
    "\n",
    "**Answer:** \n",
    "\n",
    "**Fill in the rows for each corresponding column**\n",
    "\n",
    "| Column Header | Definition | Unit |\n",
    "| :- | :- | :- |\n",
    "| Galaxy ID |  | \n",
    "| Stellar Mass [Mo] | | \n",
    "| g band |  | \n",
    "| r band |  | \n",
    "| Probability is spiral |  | "
   ]
  },
  {
   "cell_type": "code",
   "execution_count": null,
   "metadata": {},
   "outputs": [],
   "source": [
    "# create two boolean arrays for if a galaxy is a spiral galaxy or an elliptical galaxy\n",
    "# use the same probability cut off that we did with the galaxy zoo\n",
    "# you can assume a galaxy is elliptical if it is is less than 20% chance a spiral galaxy\n",
    "\n"
   ]
  },
  {
   "cell_type": "markdown",
   "metadata": {},
   "source": [
    "**What percentage of these galaxies are spirals?**\n",
    "\n",
    "**Answer:** \n",
    "\n",
    "**What percentage of these galaxies are ellipticals?**\n",
    "\n",
    "**Answer:** "
   ]
  },
  {
   "cell_type": "code",
   "execution_count": null,
   "metadata": {},
   "outputs": [],
   "source": [
    "#fill in the name of the boolean arrays where you see $\n",
    "print('The percentage of spiral galaxies is', round(sum($)/len($) * 100,2), '%')\n",
    "print('The percentage of elliptical galaxies is', round(sum($)/len($) * 100,2), '%')"
   ]
  },
  {
   "cell_type": "markdown",
   "metadata": {},
   "source": [
    "**How do these percentages compare to the ones you found in the Galaxy Zoo data?**\n",
    "\n",
    "**Answer:** "
   ]
  },
  {
   "cell_type": "code",
   "execution_count": null,
   "metadata": {},
   "outputs": [],
   "source": [
    "# create a single plot showing histograms of the colors of the two types of galaxies \n",
    "\n",
    "# import our graphing package and numpy\n",
    "\n",
    "\n",
    "#the below is optional but makes the font a size I can read more easily\n",
    "import matplotlib\n",
    "matplotlib.rc('font', **{'family':'sans-serif', 'size':16}) \n",
    "\n",
    "# calculate color\n",
    "\n",
    "\n",
    "# separate into spiral and elliptical\n",
    "\n",
    "\n",
    "# create one histogram with elliptical and spiral galaxies on it\n",
    "\n",
    "\n",
    "# statistics -- find the mean and standard deviations of the color for spirals and ellipticals\n",
    "# print the stats below"
   ]
  },
  {
   "cell_type": "markdown",
   "metadata": {},
   "source": [
    "**Are your results consistent with what you found in Galaxy Zoo?**\n",
    "\n",
    "**Answer:**"
   ]
  },
  {
   "cell_type": "markdown",
   "metadata": {},
   "source": [
    "## Mergers\n",
    "\n",
    "So far, we have confirmed that in at least some ways, the simulated galaxies behave like observed ones! Cool, but let's learn something new! I said that we can use galaxy simulations to learn about mergers. Let's do that! Read in the mergers files and check out what it contains. "
   ]
  },
  {
   "cell_type": "code",
   "execution_count": null,
   "metadata": {},
   "outputs": [],
   "source": [
    "# read in the file mergers.csv\n"
   ]
  },
  {
   "cell_type": "code",
   "execution_count": null,
   "metadata": {},
   "outputs": [],
   "source": [
    "# examine the data\n"
   ]
  },
  {
   "cell_type": "markdown",
   "metadata": {},
   "source": [
    "**How many rows are there?** \n",
    "\n",
    "**Answer:**\n",
    "\n",
    "**How many columns are there?**\n",
    "\n",
    "**Answer:** \n",
    "\n",
    "**Fill in the rows for each corresponding column**\n",
    "\n",
    "| Column Header | Definition | Unit |\n",
    "| :- | :- | :- |\n",
    "| Galaxy ID |  | \n",
    "| Time Since Last Major Merger [Gyr] | | \n",
    "| Number of Major Mergers |  | \n",
    "| Number of Minor Mergers |  | "
   ]
  },
  {
   "cell_type": "markdown",
   "metadata": {},
   "source": [
    "# Deliverable\n",
    "\n",
    "Explore the galaxy data you have in this notebook to make at least one plot that tells us something we haven't explored! Be ready to present. You might want to include statistics."
   ]
  },
  {
   "cell_type": "code",
   "execution_count": null,
   "metadata": {},
   "outputs": [],
   "source": [
    "# explore the data and make a plot below!\n",
    "\n"
   ]
  },
  {
   "cell_type": "markdown",
   "metadata": {},
   "source": [
    "**According to your graph set up...**\n",
    "\n",
    "**What is the independent variable?**\n",
    "\n",
    "**Answer:**\n",
    "\n",
    "\n",
    "**What is the dependent variable?**\n",
    "\n",
    "**Answer:**\n",
    "\n",
    "\n",
    "**What could a control variable be?**\n",
    "\n",
    "**Answer:**\n",
    "\n",
    "**What shapes or trends do you see in the data?**\n",
    "\n",
    "**Answer:**\n",
    "\n",
    "**What could this mean physically/astronomically?**\n",
    "\n",
    "**Answer:**\n",
    "\n",
    "**What further questions does this raise?**\n",
    "\n",
    "**Answer:**"
   ]
  },
  {
   "cell_type": "markdown",
   "metadata": {},
   "source": [
    "## Reflection\n",
    "\n",
    "Write down some notes in your lab notebook about what you've learned in this unit about simulated galaxies. Be sure to include some astronomy and some coding. "
   ]
  }
 ],
 "metadata": {
  "kernelspec": {
   "display_name": "Python [conda env:base] *",
   "language": "python",
   "name": "conda-base-py"
  },
  "language_info": {
   "codemirror_mode": {
    "name": "ipython",
    "version": 3
   },
   "file_extension": ".py",
   "mimetype": "text/x-python",
   "name": "python",
   "nbconvert_exporter": "python",
   "pygments_lexer": "ipython3",
   "version": "3.12.7"
  }
 },
 "nbformat": 4,
 "nbformat_minor": 4
}
